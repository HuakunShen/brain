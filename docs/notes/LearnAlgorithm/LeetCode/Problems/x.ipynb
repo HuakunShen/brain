{
 "cells": [
  {
   "cell_type": "code",
   "execution_count": 5,
   "metadata": {},
   "outputs": [],
   "source": [
    "import shutil\n",
    "from pathlib import Path"
   ]
  },
  {
   "cell_type": "code",
   "execution_count": 2,
   "metadata": {},
   "outputs": [],
   "source": [
    "problems = Path('').absolute()"
   ]
  },
  {
   "cell_type": "code",
   "execution_count": 8,
   "metadata": {},
   "outputs": [],
   "source": [
    "questions = list(problems.iterdir())\n",
    "for q in questions:\n",
    "    if not q.is_dir():\n",
    "        continue\n",
    "    if not (q / 'README.md').exists():\n",
    "        continue\n",
    "    if len(list(q.iterdir())) != 1:\n",
    "        continue\n",
    "    shutil.move(q / 'README.md', f\"{q.name}.md\")\n",
    "    # print(f\"move {q / 'README.md'} to {q.name}.md\")\n",
    "\n",
    "        \n"
   ]
  },
  {
   "cell_type": "code",
   "execution_count": 12,
   "metadata": {},
   "outputs": [
    {
     "name": "stdout",
     "output_type": "stream",
     "text": [
      "/Users/hacker/Documents/Learn/brain/docs/LearnAlgorithm/LeetCode/Problems/953.verifying-an-alien-dictionary\n",
      "/Users/hacker/Documents/Learn/brain/docs/LearnAlgorithm/LeetCode/Problems/986.Interval-List-Intersections\n",
      "/Users/hacker/Documents/Learn/brain/docs/LearnAlgorithm/LeetCode/Problems/897.Increasing-Order-Search-Tree\n",
      "/Users/hacker/Documents/Learn/brain/docs/LearnAlgorithm/LeetCode/Problems/938.Range-Sum-of-BST\n",
      "/Users/hacker/Documents/Learn/brain/docs/LearnAlgorithm/LeetCode/Problems/706.Design-HashMap\n",
      "/Users/hacker/Documents/Learn/brain/docs/LearnAlgorithm/LeetCode/Problems/705.Design-HashSet\n",
      "/Users/hacker/Documents/Learn/brain/docs/LearnAlgorithm/LeetCode/Problems/876.middle-of-the-linked-lis\n",
      "/Users/hacker/Documents/Learn/brain/docs/LearnAlgorithm/LeetCode/Problems/1396.Design-Underground-System\n",
      "/Users/hacker/Documents/Learn/brain/docs/LearnAlgorithm/LeetCode/Problems/289.Game-of-Life\n",
      "/Users/hacker/Documents/Learn/brain/docs/LearnAlgorithm/LeetCode/Problems/1260.Shift-2D-Grid\n",
      "/Users/hacker/Documents/Learn/brain/docs/LearnAlgorithm/LeetCode/Problems/1071.greatest-common-divisor-of-strings\n",
      "/Users/hacker/Documents/Learn/brain/docs/LearnAlgorithm/LeetCode/Problems/1026.Maximum-Difference-Between-Node-and-Ancestor\n",
      "/Users/hacker/Documents/Learn/brain/docs/LearnAlgorithm/LeetCode/Problems/74.Search-a-2D-Matrix\n",
      "/Users/hacker/Documents/Learn/brain/docs/LearnAlgorithm/LeetCode/Problems/82.Remove-Duplicates-from-Sorted-List-II\n",
      "/Users/hacker/Documents/Learn/brain/docs/LearnAlgorithm/LeetCode/Problems/682.Baseball-Game\n",
      "/Users/hacker/Documents/Learn/brain/docs/LearnAlgorithm/LeetCode/Problems/347.TopK-Frequent-Elements\n",
      "/Users/hacker/Documents/Learn/brain/docs/LearnAlgorithm/LeetCode/Problems/33.Search-in-Rotated-Sorted-Array\n",
      "/Users/hacker/Documents/Learn/brain/docs/LearnAlgorithm/LeetCode/Problems/230.Kth-Smallest-Element-in-a-BST\n",
      "/Users/hacker/Documents/Learn/brain/docs/LearnAlgorithm/LeetCode/Problems/202.Happy-Number\n",
      "/Users/hacker/Documents/Learn/brain/docs/LearnAlgorithm/LeetCode/Problems/34.Find-First-and-Last-Position-of-Element-in-Sorted-Array\n",
      "/Users/hacker/Documents/Learn/brain/docs/LearnAlgorithm/LeetCode/Problems/700.Search-in-a-Binary-Search-Tree\n",
      "/Users/hacker/Documents/Learn/brain/docs/LearnAlgorithm/LeetCode/Problems/59.Spiral-Matrix-II\n",
      "/Users/hacker/Documents/Learn/brain/docs/LearnAlgorithm/LeetCode/Problems/844.Backspace-String-Compare\n",
      "/Users/hacker/Documents/Learn/brain/docs/LearnAlgorithm/LeetCode/Problems/31.Next-Permutation\n",
      "/Users/hacker/Documents/Learn/brain/docs/LearnAlgorithm/LeetCode/Problems/630.Course-Schedule-III\n",
      "/Users/hacker/Documents/Learn/brain/docs/LearnAlgorithm/LeetCode/Problems/1383.Maximum-Performance-of-a-Team\n",
      "/Users/hacker/Documents/Learn/brain/docs/LearnAlgorithm/LeetCode/Problems/1704.Determine-if-String-Halves-Are-Alike\n",
      "/Users/hacker/Documents/Learn/brain/docs/LearnAlgorithm/LeetCode/Problems/284.Peeking-Iterator\n",
      "/Users/hacker/Documents/Learn/brain/docs/LearnAlgorithm/LeetCode/Problems/1721.Swapping-Nodes-in-a-Linked-List\n",
      "/Users/hacker/Documents/Learn/brain/docs/LearnAlgorithm/LeetCode/Problems/176.Second-Highest-Salary\n",
      "/Users/hacker/Documents/Learn/brain/docs/LearnAlgorithm/LeetCode/Problems/923.3-sum-with-multiplicity\n",
      "/Users/hacker/Documents/Learn/brain/docs/LearnAlgorithm/LeetCode/Problems/162.Find-Peak-Element\n",
      "/Users/hacker/Documents/Learn/brain/docs/LearnAlgorithm/LeetCode/Problems/153.Find-Minimum-in-Rotated-Sorted-Array\n",
      "/Users/hacker/Documents/Learn/brain/docs/LearnAlgorithm/LeetCode/Problems/173.Binary-Search-Tree-Iterator\n",
      "/Users/hacker/Documents/Learn/brain/docs/LearnAlgorithm/LeetCode/Problems/203.Remove-Linked-List-Elements\n",
      "/Users/hacker/Documents/Learn/brain/docs/LearnAlgorithm/LeetCode/Problems/703.Kth-Largest-Element-in-a-Stream\n",
      "/Users/hacker/Documents/Learn/brain/docs/LearnAlgorithm/LeetCode/Problems/1046.Last-Stone-Weight\n",
      "/Users/hacker/Documents/Learn/brain/docs/LearnAlgorithm/LeetCode/Problems/15.3Sum\n",
      "/Users/hacker/Documents/Learn/brain/docs/LearnAlgorithm/LeetCode/Problems/775.Global-and-Local-Inversions\n"
     ]
    }
   ],
   "source": [
    "for q in questions:\n",
    "    if not q.is_dir():\n",
    "        continue\n",
    "    if len(list(q.iterdir())) == 0:\n",
    "        print(q)\n",
    "        q.rmdir()\n",
    "        # print(f\"remove {q}\")"
   ]
  }
 ],
 "metadata": {
  "kernelspec": {
   "display_name": "AI",
   "language": "python",
   "name": "python3"
  },
  "language_info": {
   "codemirror_mode": {
    "name": "ipython",
    "version": 3
   },
   "file_extension": ".py",
   "mimetype": "text/x-python",
   "name": "python",
   "nbconvert_exporter": "python",
   "pygments_lexer": "ipython3",
   "version": "3.11.5"
  }
 },
 "nbformat": 4,
 "nbformat_minor": 2
}
